{
 "cells": [
  {
   "cell_type": "code",
   "execution_count": 7,
   "id": "8d0452ef",
   "metadata": {},
   "outputs": [],
   "source": [
    "# Import libraries\n",
    "import requests\n",
    "import pandas as pd\n",
    "import matplotlib.pyplot as plt\n",
    "from datetime import datetime\n",
    "import time\n"
   ]
  },
  {
   "cell_type": "code",
   "execution_count": 8,
   "id": "3204d7e0",
   "metadata": {},
   "outputs": [],
   "source": [
    "# Polygon.io Stock API Key\n",
    "API_KEY = 'qKpnAGCOOWHnsxX4ZvZUZCpKFBKllLuO'  # Stock API key\n",
    "\n",
    "# Step 1: Curated universe of 50 stocks with liquid options\n",
    "liquid_universe = [\n",
    "    'AAPL', 'MSFT', 'NVDA', 'AMZN', 'GOOGL', 'META', 'TSLA', 'JPM', 'UNH', 'V',\n",
    "    'MA', 'XOM', 'BRK.B', 'AVGO', 'JNJ', 'HD', 'PG', 'LLY', 'AMD', 'BAC',\n",
    "    'NFLX', 'CRM', 'PEP', 'COST', 'T', 'INTC', 'WMT', 'MRK', 'CVX', 'KO',\n",
    "    'ADBE', 'ABBV', 'TXN', 'QCOM', 'CAT', 'GS', 'GE', 'NOW', 'DE', 'AMAT',\n",
    "    'VRTX', 'LOW', 'BX', 'PFE', 'ORCL', 'MCD', 'CSCO', 'MDT', 'NKE', 'TMO'\n",
    "]\n",
    "\n",
    "START_DATE = \"2024-06-01\"\n",
    "END_DATE = \"2025-07-01\"\n",
    "\n"
   ]
  },
  {
   "cell_type": "code",
   "execution_count": 9,
   "id": "20f3be7d",
   "metadata": {},
   "outputs": [],
   "source": [
    "def fetch_daily_close(symbol):\n",
    "    url = f\"https://api.polygon.io/v2/aggs/ticker/{symbol}/range/1/day/{START_DATE}/{END_DATE}?adjusted=true&sort=asc&apiKey={API_KEY}\"\n",
    "    response = requests.get(url)\n",
    "    if response.status_code == 200:\n",
    "        data = response.json()\n",
    "        results = data.get('results', [])\n",
    "        if results:\n",
    "            return pd.DataFrame({\n",
    "                'date': [datetime.utcfromtimestamp(day['t'] / 1000).date() for day in results],\n",
    "                symbol: [day['c'] for day in results]\n",
    "            }).set_index('date')\n",
    "    print(f\"Failed to fetch: {symbol} | Status: {response.status_code}\")\n",
    "    return pd.DataFrame()\n"
   ]
  },
  {
   "cell_type": "code",
   "execution_count": 10,
   "id": "0d4fe40e",
   "metadata": {},
   "outputs": [
    {
     "name": "stdout",
     "output_type": "stream",
     "text": [
      "Fetching AAPL (1/50)\n"
     ]
    },
    {
     "name": "stderr",
     "output_type": "stream",
     "text": [
      "C:\\Users\\Jeffe\\AppData\\Local\\Temp\\ipykernel_5908\\241227172.py:9: DeprecationWarning: datetime.datetime.utcfromtimestamp() is deprecated and scheduled for removal in a future version. Use timezone-aware objects to represent datetimes in UTC: datetime.datetime.fromtimestamp(timestamp, datetime.UTC).\n",
      "  'date': [datetime.utcfromtimestamp(day['t'] / 1000).date() for day in results],\n",
      "C:\\Users\\Jeffe\\AppData\\Local\\Temp\\ipykernel_5908\\241227172.py:9: DeprecationWarning: datetime.datetime.utcfromtimestamp() is deprecated and scheduled for removal in a future version. Use timezone-aware objects to represent datetimes in UTC: datetime.datetime.fromtimestamp(timestamp, datetime.UTC).\n",
      "  'date': [datetime.utcfromtimestamp(day['t'] / 1000).date() for day in results],\n"
     ]
    },
    {
     "name": "stdout",
     "output_type": "stream",
     "text": [
      "Fetching MSFT (2/50)\n",
      "Fetching NVDA (3/50)\n"
     ]
    },
    {
     "name": "stderr",
     "output_type": "stream",
     "text": [
      "C:\\Users\\Jeffe\\AppData\\Local\\Temp\\ipykernel_5908\\241227172.py:9: DeprecationWarning: datetime.datetime.utcfromtimestamp() is deprecated and scheduled for removal in a future version. Use timezone-aware objects to represent datetimes in UTC: datetime.datetime.fromtimestamp(timestamp, datetime.UTC).\n",
      "  'date': [datetime.utcfromtimestamp(day['t'] / 1000).date() for day in results],\n",
      "C:\\Users\\Jeffe\\AppData\\Local\\Temp\\ipykernel_5908\\241227172.py:9: DeprecationWarning: datetime.datetime.utcfromtimestamp() is deprecated and scheduled for removal in a future version. Use timezone-aware objects to represent datetimes in UTC: datetime.datetime.fromtimestamp(timestamp, datetime.UTC).\n",
      "  'date': [datetime.utcfromtimestamp(day['t'] / 1000).date() for day in results],\n"
     ]
    },
    {
     "name": "stdout",
     "output_type": "stream",
     "text": [
      "Fetching AMZN (4/50)\n",
      "Fetching GOOGL (5/50)\n"
     ]
    },
    {
     "name": "stderr",
     "output_type": "stream",
     "text": [
      "C:\\Users\\Jeffe\\AppData\\Local\\Temp\\ipykernel_5908\\241227172.py:9: DeprecationWarning: datetime.datetime.utcfromtimestamp() is deprecated and scheduled for removal in a future version. Use timezone-aware objects to represent datetimes in UTC: datetime.datetime.fromtimestamp(timestamp, datetime.UTC).\n",
      "  'date': [datetime.utcfromtimestamp(day['t'] / 1000).date() for day in results],\n",
      "C:\\Users\\Jeffe\\AppData\\Local\\Temp\\ipykernel_5908\\241227172.py:9: DeprecationWarning: datetime.datetime.utcfromtimestamp() is deprecated and scheduled for removal in a future version. Use timezone-aware objects to represent datetimes in UTC: datetime.datetime.fromtimestamp(timestamp, datetime.UTC).\n",
      "  'date': [datetime.utcfromtimestamp(day['t'] / 1000).date() for day in results],\n"
     ]
    },
    {
     "name": "stdout",
     "output_type": "stream",
     "text": [
      "Fetching META (6/50)\n",
      "Fetching TSLA (7/50)\n"
     ]
    },
    {
     "name": "stderr",
     "output_type": "stream",
     "text": [
      "C:\\Users\\Jeffe\\AppData\\Local\\Temp\\ipykernel_5908\\241227172.py:9: DeprecationWarning: datetime.datetime.utcfromtimestamp() is deprecated and scheduled for removal in a future version. Use timezone-aware objects to represent datetimes in UTC: datetime.datetime.fromtimestamp(timestamp, datetime.UTC).\n",
      "  'date': [datetime.utcfromtimestamp(day['t'] / 1000).date() for day in results],\n",
      "C:\\Users\\Jeffe\\AppData\\Local\\Temp\\ipykernel_5908\\241227172.py:9: DeprecationWarning: datetime.datetime.utcfromtimestamp() is deprecated and scheduled for removal in a future version. Use timezone-aware objects to represent datetimes in UTC: datetime.datetime.fromtimestamp(timestamp, datetime.UTC).\n",
      "  'date': [datetime.utcfromtimestamp(day['t'] / 1000).date() for day in results],\n"
     ]
    },
    {
     "name": "stdout",
     "output_type": "stream",
     "text": [
      "Fetching JPM (8/50)\n",
      "Fetching UNH (9/50)\n"
     ]
    },
    {
     "name": "stderr",
     "output_type": "stream",
     "text": [
      "C:\\Users\\Jeffe\\AppData\\Local\\Temp\\ipykernel_5908\\241227172.py:9: DeprecationWarning: datetime.datetime.utcfromtimestamp() is deprecated and scheduled for removal in a future version. Use timezone-aware objects to represent datetimes in UTC: datetime.datetime.fromtimestamp(timestamp, datetime.UTC).\n",
      "  'date': [datetime.utcfromtimestamp(day['t'] / 1000).date() for day in results],\n"
     ]
    },
    {
     "name": "stdout",
     "output_type": "stream",
     "text": [
      "Fetching V (10/50)\n"
     ]
    },
    {
     "name": "stderr",
     "output_type": "stream",
     "text": [
      "C:\\Users\\Jeffe\\AppData\\Local\\Temp\\ipykernel_5908\\241227172.py:9: DeprecationWarning: datetime.datetime.utcfromtimestamp() is deprecated and scheduled for removal in a future version. Use timezone-aware objects to represent datetimes in UTC: datetime.datetime.fromtimestamp(timestamp, datetime.UTC).\n",
      "  'date': [datetime.utcfromtimestamp(day['t'] / 1000).date() for day in results],\n",
      "C:\\Users\\Jeffe\\AppData\\Local\\Temp\\ipykernel_5908\\241227172.py:9: DeprecationWarning: datetime.datetime.utcfromtimestamp() is deprecated and scheduled for removal in a future version. Use timezone-aware objects to represent datetimes in UTC: datetime.datetime.fromtimestamp(timestamp, datetime.UTC).\n",
      "  'date': [datetime.utcfromtimestamp(day['t'] / 1000).date() for day in results],\n"
     ]
    },
    {
     "name": "stdout",
     "output_type": "stream",
     "text": [
      "Fetching MA (11/50)\n",
      "Fetching XOM (12/50)\n"
     ]
    },
    {
     "name": "stderr",
     "output_type": "stream",
     "text": [
      "C:\\Users\\Jeffe\\AppData\\Local\\Temp\\ipykernel_5908\\241227172.py:9: DeprecationWarning: datetime.datetime.utcfromtimestamp() is deprecated and scheduled for removal in a future version. Use timezone-aware objects to represent datetimes in UTC: datetime.datetime.fromtimestamp(timestamp, datetime.UTC).\n",
      "  'date': [datetime.utcfromtimestamp(day['t'] / 1000).date() for day in results],\n",
      "C:\\Users\\Jeffe\\AppData\\Local\\Temp\\ipykernel_5908\\241227172.py:9: DeprecationWarning: datetime.datetime.utcfromtimestamp() is deprecated and scheduled for removal in a future version. Use timezone-aware objects to represent datetimes in UTC: datetime.datetime.fromtimestamp(timestamp, datetime.UTC).\n",
      "  'date': [datetime.utcfromtimestamp(day['t'] / 1000).date() for day in results],\n"
     ]
    },
    {
     "name": "stdout",
     "output_type": "stream",
     "text": [
      "Fetching BRK.B (13/50)\n",
      "Fetching AVGO (14/50)\n"
     ]
    },
    {
     "name": "stderr",
     "output_type": "stream",
     "text": [
      "C:\\Users\\Jeffe\\AppData\\Local\\Temp\\ipykernel_5908\\241227172.py:9: DeprecationWarning: datetime.datetime.utcfromtimestamp() is deprecated and scheduled for removal in a future version. Use timezone-aware objects to represent datetimes in UTC: datetime.datetime.fromtimestamp(timestamp, datetime.UTC).\n",
      "  'date': [datetime.utcfromtimestamp(day['t'] / 1000).date() for day in results],\n",
      "C:\\Users\\Jeffe\\AppData\\Local\\Temp\\ipykernel_5908\\241227172.py:9: DeprecationWarning: datetime.datetime.utcfromtimestamp() is deprecated and scheduled for removal in a future version. Use timezone-aware objects to represent datetimes in UTC: datetime.datetime.fromtimestamp(timestamp, datetime.UTC).\n",
      "  'date': [datetime.utcfromtimestamp(day['t'] / 1000).date() for day in results],\n"
     ]
    },
    {
     "name": "stdout",
     "output_type": "stream",
     "text": [
      "Fetching JNJ (15/50)\n",
      "Fetching HD (16/50)\n"
     ]
    },
    {
     "name": "stderr",
     "output_type": "stream",
     "text": [
      "C:\\Users\\Jeffe\\AppData\\Local\\Temp\\ipykernel_5908\\241227172.py:9: DeprecationWarning: datetime.datetime.utcfromtimestamp() is deprecated and scheduled for removal in a future version. Use timezone-aware objects to represent datetimes in UTC: datetime.datetime.fromtimestamp(timestamp, datetime.UTC).\n",
      "  'date': [datetime.utcfromtimestamp(day['t'] / 1000).date() for day in results],\n",
      "C:\\Users\\Jeffe\\AppData\\Local\\Temp\\ipykernel_5908\\241227172.py:9: DeprecationWarning: datetime.datetime.utcfromtimestamp() is deprecated and scheduled for removal in a future version. Use timezone-aware objects to represent datetimes in UTC: datetime.datetime.fromtimestamp(timestamp, datetime.UTC).\n",
      "  'date': [datetime.utcfromtimestamp(day['t'] / 1000).date() for day in results],\n"
     ]
    },
    {
     "name": "stdout",
     "output_type": "stream",
     "text": [
      "Fetching PG (17/50)\n",
      "Fetching LLY (18/50)\n"
     ]
    },
    {
     "name": "stderr",
     "output_type": "stream",
     "text": [
      "C:\\Users\\Jeffe\\AppData\\Local\\Temp\\ipykernel_5908\\241227172.py:9: DeprecationWarning: datetime.datetime.utcfromtimestamp() is deprecated and scheduled for removal in a future version. Use timezone-aware objects to represent datetimes in UTC: datetime.datetime.fromtimestamp(timestamp, datetime.UTC).\n",
      "  'date': [datetime.utcfromtimestamp(day['t'] / 1000).date() for day in results],\n",
      "C:\\Users\\Jeffe\\AppData\\Local\\Temp\\ipykernel_5908\\241227172.py:9: DeprecationWarning: datetime.datetime.utcfromtimestamp() is deprecated and scheduled for removal in a future version. Use timezone-aware objects to represent datetimes in UTC: datetime.datetime.fromtimestamp(timestamp, datetime.UTC).\n",
      "  'date': [datetime.utcfromtimestamp(day['t'] / 1000).date() for day in results],\n"
     ]
    },
    {
     "name": "stdout",
     "output_type": "stream",
     "text": [
      "Fetching AMD (19/50)\n",
      "Fetching BAC (20/50)\n"
     ]
    },
    {
     "name": "stderr",
     "output_type": "stream",
     "text": [
      "C:\\Users\\Jeffe\\AppData\\Local\\Temp\\ipykernel_5908\\241227172.py:9: DeprecationWarning: datetime.datetime.utcfromtimestamp() is deprecated and scheduled for removal in a future version. Use timezone-aware objects to represent datetimes in UTC: datetime.datetime.fromtimestamp(timestamp, datetime.UTC).\n",
      "  'date': [datetime.utcfromtimestamp(day['t'] / 1000).date() for day in results],\n",
      "C:\\Users\\Jeffe\\AppData\\Local\\Temp\\ipykernel_5908\\241227172.py:9: DeprecationWarning: datetime.datetime.utcfromtimestamp() is deprecated and scheduled for removal in a future version. Use timezone-aware objects to represent datetimes in UTC: datetime.datetime.fromtimestamp(timestamp, datetime.UTC).\n",
      "  'date': [datetime.utcfromtimestamp(day['t'] / 1000).date() for day in results],\n"
     ]
    },
    {
     "name": "stdout",
     "output_type": "stream",
     "text": [
      "Fetching NFLX (21/50)\n",
      "Fetching CRM (22/50)\n"
     ]
    },
    {
     "name": "stderr",
     "output_type": "stream",
     "text": [
      "C:\\Users\\Jeffe\\AppData\\Local\\Temp\\ipykernel_5908\\241227172.py:9: DeprecationWarning: datetime.datetime.utcfromtimestamp() is deprecated and scheduled for removal in a future version. Use timezone-aware objects to represent datetimes in UTC: datetime.datetime.fromtimestamp(timestamp, datetime.UTC).\n",
      "  'date': [datetime.utcfromtimestamp(day['t'] / 1000).date() for day in results],\n"
     ]
    },
    {
     "name": "stdout",
     "output_type": "stream",
     "text": [
      "Fetching PEP (23/50)\n"
     ]
    },
    {
     "name": "stderr",
     "output_type": "stream",
     "text": [
      "C:\\Users\\Jeffe\\AppData\\Local\\Temp\\ipykernel_5908\\241227172.py:9: DeprecationWarning: datetime.datetime.utcfromtimestamp() is deprecated and scheduled for removal in a future version. Use timezone-aware objects to represent datetimes in UTC: datetime.datetime.fromtimestamp(timestamp, datetime.UTC).\n",
      "  'date': [datetime.utcfromtimestamp(day['t'] / 1000).date() for day in results],\n",
      "C:\\Users\\Jeffe\\AppData\\Local\\Temp\\ipykernel_5908\\241227172.py:9: DeprecationWarning: datetime.datetime.utcfromtimestamp() is deprecated and scheduled for removal in a future version. Use timezone-aware objects to represent datetimes in UTC: datetime.datetime.fromtimestamp(timestamp, datetime.UTC).\n",
      "  'date': [datetime.utcfromtimestamp(day['t'] / 1000).date() for day in results],\n"
     ]
    },
    {
     "name": "stdout",
     "output_type": "stream",
     "text": [
      "Fetching COST (24/50)\n",
      "Fetching T (25/50)\n"
     ]
    },
    {
     "name": "stderr",
     "output_type": "stream",
     "text": [
      "C:\\Users\\Jeffe\\AppData\\Local\\Temp\\ipykernel_5908\\241227172.py:9: DeprecationWarning: datetime.datetime.utcfromtimestamp() is deprecated and scheduled for removal in a future version. Use timezone-aware objects to represent datetimes in UTC: datetime.datetime.fromtimestamp(timestamp, datetime.UTC).\n",
      "  'date': [datetime.utcfromtimestamp(day['t'] / 1000).date() for day in results],\n",
      "C:\\Users\\Jeffe\\AppData\\Local\\Temp\\ipykernel_5908\\241227172.py:9: DeprecationWarning: datetime.datetime.utcfromtimestamp() is deprecated and scheduled for removal in a future version. Use timezone-aware objects to represent datetimes in UTC: datetime.datetime.fromtimestamp(timestamp, datetime.UTC).\n",
      "  'date': [datetime.utcfromtimestamp(day['t'] / 1000).date() for day in results],\n"
     ]
    },
    {
     "name": "stdout",
     "output_type": "stream",
     "text": [
      "Fetching INTC (26/50)\n",
      "Fetching WMT (27/50)\n"
     ]
    },
    {
     "name": "stderr",
     "output_type": "stream",
     "text": [
      "C:\\Users\\Jeffe\\AppData\\Local\\Temp\\ipykernel_5908\\241227172.py:9: DeprecationWarning: datetime.datetime.utcfromtimestamp() is deprecated and scheduled for removal in a future version. Use timezone-aware objects to represent datetimes in UTC: datetime.datetime.fromtimestamp(timestamp, datetime.UTC).\n",
      "  'date': [datetime.utcfromtimestamp(day['t'] / 1000).date() for day in results],\n",
      "C:\\Users\\Jeffe\\AppData\\Local\\Temp\\ipykernel_5908\\241227172.py:9: DeprecationWarning: datetime.datetime.utcfromtimestamp() is deprecated and scheduled for removal in a future version. Use timezone-aware objects to represent datetimes in UTC: datetime.datetime.fromtimestamp(timestamp, datetime.UTC).\n",
      "  'date': [datetime.utcfromtimestamp(day['t'] / 1000).date() for day in results],\n"
     ]
    },
    {
     "name": "stdout",
     "output_type": "stream",
     "text": [
      "Fetching MRK (28/50)\n",
      "Fetching CVX (29/50)\n"
     ]
    },
    {
     "name": "stderr",
     "output_type": "stream",
     "text": [
      "C:\\Users\\Jeffe\\AppData\\Local\\Temp\\ipykernel_5908\\241227172.py:9: DeprecationWarning: datetime.datetime.utcfromtimestamp() is deprecated and scheduled for removal in a future version. Use timezone-aware objects to represent datetimes in UTC: datetime.datetime.fromtimestamp(timestamp, datetime.UTC).\n",
      "  'date': [datetime.utcfromtimestamp(day['t'] / 1000).date() for day in results],\n",
      "C:\\Users\\Jeffe\\AppData\\Local\\Temp\\ipykernel_5908\\241227172.py:9: DeprecationWarning: datetime.datetime.utcfromtimestamp() is deprecated and scheduled for removal in a future version. Use timezone-aware objects to represent datetimes in UTC: datetime.datetime.fromtimestamp(timestamp, datetime.UTC).\n",
      "  'date': [datetime.utcfromtimestamp(day['t'] / 1000).date() for day in results],\n"
     ]
    },
    {
     "name": "stdout",
     "output_type": "stream",
     "text": [
      "Fetching KO (30/50)\n",
      "Fetching ADBE (31/50)\n"
     ]
    },
    {
     "name": "stderr",
     "output_type": "stream",
     "text": [
      "C:\\Users\\Jeffe\\AppData\\Local\\Temp\\ipykernel_5908\\241227172.py:9: DeprecationWarning: datetime.datetime.utcfromtimestamp() is deprecated and scheduled for removal in a future version. Use timezone-aware objects to represent datetimes in UTC: datetime.datetime.fromtimestamp(timestamp, datetime.UTC).\n",
      "  'date': [datetime.utcfromtimestamp(day['t'] / 1000).date() for day in results],\n",
      "C:\\Users\\Jeffe\\AppData\\Local\\Temp\\ipykernel_5908\\241227172.py:9: DeprecationWarning: datetime.datetime.utcfromtimestamp() is deprecated and scheduled for removal in a future version. Use timezone-aware objects to represent datetimes in UTC: datetime.datetime.fromtimestamp(timestamp, datetime.UTC).\n",
      "  'date': [datetime.utcfromtimestamp(day['t'] / 1000).date() for day in results],\n"
     ]
    },
    {
     "name": "stdout",
     "output_type": "stream",
     "text": [
      "Fetching ABBV (32/50)\n",
      "Fetching TXN (33/50)\n"
     ]
    },
    {
     "name": "stderr",
     "output_type": "stream",
     "text": [
      "C:\\Users\\Jeffe\\AppData\\Local\\Temp\\ipykernel_5908\\241227172.py:9: DeprecationWarning: datetime.datetime.utcfromtimestamp() is deprecated and scheduled for removal in a future version. Use timezone-aware objects to represent datetimes in UTC: datetime.datetime.fromtimestamp(timestamp, datetime.UTC).\n",
      "  'date': [datetime.utcfromtimestamp(day['t'] / 1000).date() for day in results],\n"
     ]
    },
    {
     "name": "stdout",
     "output_type": "stream",
     "text": [
      "Fetching QCOM (34/50)\n"
     ]
    },
    {
     "name": "stderr",
     "output_type": "stream",
     "text": [
      "C:\\Users\\Jeffe\\AppData\\Local\\Temp\\ipykernel_5908\\241227172.py:9: DeprecationWarning: datetime.datetime.utcfromtimestamp() is deprecated and scheduled for removal in a future version. Use timezone-aware objects to represent datetimes in UTC: datetime.datetime.fromtimestamp(timestamp, datetime.UTC).\n",
      "  'date': [datetime.utcfromtimestamp(day['t'] / 1000).date() for day in results],\n",
      "C:\\Users\\Jeffe\\AppData\\Local\\Temp\\ipykernel_5908\\241227172.py:9: DeprecationWarning: datetime.datetime.utcfromtimestamp() is deprecated and scheduled for removal in a future version. Use timezone-aware objects to represent datetimes in UTC: datetime.datetime.fromtimestamp(timestamp, datetime.UTC).\n",
      "  'date': [datetime.utcfromtimestamp(day['t'] / 1000).date() for day in results],\n"
     ]
    },
    {
     "name": "stdout",
     "output_type": "stream",
     "text": [
      "Fetching CAT (35/50)\n",
      "Fetching GS (36/50)\n"
     ]
    },
    {
     "name": "stderr",
     "output_type": "stream",
     "text": [
      "C:\\Users\\Jeffe\\AppData\\Local\\Temp\\ipykernel_5908\\241227172.py:9: DeprecationWarning: datetime.datetime.utcfromtimestamp() is deprecated and scheduled for removal in a future version. Use timezone-aware objects to represent datetimes in UTC: datetime.datetime.fromtimestamp(timestamp, datetime.UTC).\n",
      "  'date': [datetime.utcfromtimestamp(day['t'] / 1000).date() for day in results],\n",
      "C:\\Users\\Jeffe\\AppData\\Local\\Temp\\ipykernel_5908\\241227172.py:9: DeprecationWarning: datetime.datetime.utcfromtimestamp() is deprecated and scheduled for removal in a future version. Use timezone-aware objects to represent datetimes in UTC: datetime.datetime.fromtimestamp(timestamp, datetime.UTC).\n",
      "  'date': [datetime.utcfromtimestamp(day['t'] / 1000).date() for day in results],\n"
     ]
    },
    {
     "name": "stdout",
     "output_type": "stream",
     "text": [
      "Fetching GE (37/50)\n",
      "Fetching NOW (38/50)\n"
     ]
    },
    {
     "name": "stderr",
     "output_type": "stream",
     "text": [
      "C:\\Users\\Jeffe\\AppData\\Local\\Temp\\ipykernel_5908\\241227172.py:9: DeprecationWarning: datetime.datetime.utcfromtimestamp() is deprecated and scheduled for removal in a future version. Use timezone-aware objects to represent datetimes in UTC: datetime.datetime.fromtimestamp(timestamp, datetime.UTC).\n",
      "  'date': [datetime.utcfromtimestamp(day['t'] / 1000).date() for day in results],\n"
     ]
    },
    {
     "name": "stdout",
     "output_type": "stream",
     "text": [
      "Fetching DE (39/50)\n"
     ]
    },
    {
     "name": "stderr",
     "output_type": "stream",
     "text": [
      "C:\\Users\\Jeffe\\AppData\\Local\\Temp\\ipykernel_5908\\241227172.py:9: DeprecationWarning: datetime.datetime.utcfromtimestamp() is deprecated and scheduled for removal in a future version. Use timezone-aware objects to represent datetimes in UTC: datetime.datetime.fromtimestamp(timestamp, datetime.UTC).\n",
      "  'date': [datetime.utcfromtimestamp(day['t'] / 1000).date() for day in results],\n",
      "C:\\Users\\Jeffe\\AppData\\Local\\Temp\\ipykernel_5908\\241227172.py:9: DeprecationWarning: datetime.datetime.utcfromtimestamp() is deprecated and scheduled for removal in a future version. Use timezone-aware objects to represent datetimes in UTC: datetime.datetime.fromtimestamp(timestamp, datetime.UTC).\n",
      "  'date': [datetime.utcfromtimestamp(day['t'] / 1000).date() for day in results],\n"
     ]
    },
    {
     "name": "stdout",
     "output_type": "stream",
     "text": [
      "Fetching AMAT (40/50)\n",
      "Fetching VRTX (41/50)\n"
     ]
    },
    {
     "name": "stderr",
     "output_type": "stream",
     "text": [
      "C:\\Users\\Jeffe\\AppData\\Local\\Temp\\ipykernel_5908\\241227172.py:9: DeprecationWarning: datetime.datetime.utcfromtimestamp() is deprecated and scheduled for removal in a future version. Use timezone-aware objects to represent datetimes in UTC: datetime.datetime.fromtimestamp(timestamp, datetime.UTC).\n",
      "  'date': [datetime.utcfromtimestamp(day['t'] / 1000).date() for day in results],\n"
     ]
    },
    {
     "name": "stdout",
     "output_type": "stream",
     "text": [
      "Fetching LOW (42/50)\n"
     ]
    },
    {
     "name": "stderr",
     "output_type": "stream",
     "text": [
      "C:\\Users\\Jeffe\\AppData\\Local\\Temp\\ipykernel_5908\\241227172.py:9: DeprecationWarning: datetime.datetime.utcfromtimestamp() is deprecated and scheduled for removal in a future version. Use timezone-aware objects to represent datetimes in UTC: datetime.datetime.fromtimestamp(timestamp, datetime.UTC).\n",
      "  'date': [datetime.utcfromtimestamp(day['t'] / 1000).date() for day in results],\n",
      "C:\\Users\\Jeffe\\AppData\\Local\\Temp\\ipykernel_5908\\241227172.py:9: DeprecationWarning: datetime.datetime.utcfromtimestamp() is deprecated and scheduled for removal in a future version. Use timezone-aware objects to represent datetimes in UTC: datetime.datetime.fromtimestamp(timestamp, datetime.UTC).\n",
      "  'date': [datetime.utcfromtimestamp(day['t'] / 1000).date() for day in results],\n"
     ]
    },
    {
     "name": "stdout",
     "output_type": "stream",
     "text": [
      "Fetching BX (43/50)\n",
      "Fetching PFE (44/50)\n"
     ]
    },
    {
     "name": "stderr",
     "output_type": "stream",
     "text": [
      "C:\\Users\\Jeffe\\AppData\\Local\\Temp\\ipykernel_5908\\241227172.py:9: DeprecationWarning: datetime.datetime.utcfromtimestamp() is deprecated and scheduled for removal in a future version. Use timezone-aware objects to represent datetimes in UTC: datetime.datetime.fromtimestamp(timestamp, datetime.UTC).\n",
      "  'date': [datetime.utcfromtimestamp(day['t'] / 1000).date() for day in results],\n",
      "C:\\Users\\Jeffe\\AppData\\Local\\Temp\\ipykernel_5908\\241227172.py:9: DeprecationWarning: datetime.datetime.utcfromtimestamp() is deprecated and scheduled for removal in a future version. Use timezone-aware objects to represent datetimes in UTC: datetime.datetime.fromtimestamp(timestamp, datetime.UTC).\n",
      "  'date': [datetime.utcfromtimestamp(day['t'] / 1000).date() for day in results],\n"
     ]
    },
    {
     "name": "stdout",
     "output_type": "stream",
     "text": [
      "Fetching ORCL (45/50)\n",
      "Fetching MCD (46/50)\n"
     ]
    },
    {
     "name": "stderr",
     "output_type": "stream",
     "text": [
      "C:\\Users\\Jeffe\\AppData\\Local\\Temp\\ipykernel_5908\\241227172.py:9: DeprecationWarning: datetime.datetime.utcfromtimestamp() is deprecated and scheduled for removal in a future version. Use timezone-aware objects to represent datetimes in UTC: datetime.datetime.fromtimestamp(timestamp, datetime.UTC).\n",
      "  'date': [datetime.utcfromtimestamp(day['t'] / 1000).date() for day in results],\n",
      "C:\\Users\\Jeffe\\AppData\\Local\\Temp\\ipykernel_5908\\241227172.py:9: DeprecationWarning: datetime.datetime.utcfromtimestamp() is deprecated and scheduled for removal in a future version. Use timezone-aware objects to represent datetimes in UTC: datetime.datetime.fromtimestamp(timestamp, datetime.UTC).\n",
      "  'date': [datetime.utcfromtimestamp(day['t'] / 1000).date() for day in results],\n"
     ]
    },
    {
     "name": "stdout",
     "output_type": "stream",
     "text": [
      "Fetching CSCO (47/50)\n",
      "Fetching MDT (48/50)\n"
     ]
    },
    {
     "name": "stderr",
     "output_type": "stream",
     "text": [
      "C:\\Users\\Jeffe\\AppData\\Local\\Temp\\ipykernel_5908\\241227172.py:9: DeprecationWarning: datetime.datetime.utcfromtimestamp() is deprecated and scheduled for removal in a future version. Use timezone-aware objects to represent datetimes in UTC: datetime.datetime.fromtimestamp(timestamp, datetime.UTC).\n",
      "  'date': [datetime.utcfromtimestamp(day['t'] / 1000).date() for day in results],\n",
      "C:\\Users\\Jeffe\\AppData\\Local\\Temp\\ipykernel_5908\\241227172.py:9: DeprecationWarning: datetime.datetime.utcfromtimestamp() is deprecated and scheduled for removal in a future version. Use timezone-aware objects to represent datetimes in UTC: datetime.datetime.fromtimestamp(timestamp, datetime.UTC).\n",
      "  'date': [datetime.utcfromtimestamp(day['t'] / 1000).date() for day in results],\n"
     ]
    },
    {
     "name": "stdout",
     "output_type": "stream",
     "text": [
      "Fetching NKE (49/50)\n",
      "Fetching TMO (50/50)\n"
     ]
    },
    {
     "name": "stderr",
     "output_type": "stream",
     "text": [
      "C:\\Users\\Jeffe\\AppData\\Local\\Temp\\ipykernel_5908\\241227172.py:9: DeprecationWarning: datetime.datetime.utcfromtimestamp() is deprecated and scheduled for removal in a future version. Use timezone-aware objects to represent datetimes in UTC: datetime.datetime.fromtimestamp(timestamp, datetime.UTC).\n",
      "  'date': [datetime.utcfromtimestamp(day['t'] / 1000).date() for day in results],\n"
     ]
    }
   ],
   "source": [
    "price_data = pd.DataFrame()\n",
    "\n",
    "for i, ticker in enumerate(liquid_universe):\n",
    "    print(f\"Fetching {ticker} ({i+1}/{len(liquid_universe)})\")\n",
    "    df = fetch_daily_close(ticker)\n",
    "\n",
    "    if df.empty or ticker not in df.columns:\n",
    "        print(f\"⚠️ Skipping {ticker} — data missing or invalid. Returned columns: {df.columns.tolist()}\")\n",
    "        continue\n",
    "\n",
    "    try:\n",
    "        price_data[ticker] = df[ticker]\n",
    "    except Exception as e:\n",
    "        print(f\"⚠️ Error loading {ticker}: {e}\")\n",
    "    "
   ]
  },
  {
   "cell_type": "code",
   "execution_count": 11,
   "id": "461713db",
   "metadata": {},
   "outputs": [],
   "source": [
    "# Step 4: Drop missing data and compute returns\n",
    "price_data = price_data.dropna()\n",
    "daily_returns = price_data.pct_change().dropna()\n"
   ]
  },
  {
   "cell_type": "code",
   "execution_count": 13,
   "id": "e189f713",
   "metadata": {},
   "outputs": [
    {
     "name": "stderr",
     "output_type": "stream",
     "text": [
      "C:\\Users\\Jeffe\\AppData\\Local\\Temp\\ipykernel_5908\\241227172.py:9: DeprecationWarning: datetime.datetime.utcfromtimestamp() is deprecated and scheduled for removal in a future version. Use timezone-aware objects to represent datetimes in UTC: datetime.datetime.fromtimestamp(timestamp, datetime.UTC).\n",
      "  'date': [datetime.utcfromtimestamp(day['t'] / 1000).date() for day in results],\n"
     ]
    }
   ],
   "source": [
    "# Step 5: Get SPY data\n",
    "spy_df = fetch_daily_close(\"SPY\")\n",
    "spy_df = spy_df.loc[daily_returns.index]\n",
    "spy_return = spy_df[\"SPY\"].pct_change().dropna()\n"
   ]
  },
  {
   "cell_type": "code",
   "execution_count": 14,
   "id": "77637a7c",
   "metadata": {},
   "outputs": [],
   "source": [
    "# Step 6: Regress to SPY using non-negative weights\n",
    "from sklearn.linear_model import LinearRegression\n",
    "\n",
    "X = daily_returns.loc[spy_return.index]\n",
    "y = spy_return\n",
    "\n",
    "model = LinearRegression(positive=True)\n",
    "model.fit(X, y)\n",
    "weights = pd.Series(model.coef_, index=X.columns)\n"
   ]
  },
  {
   "cell_type": "code",
   "execution_count": 15,
   "id": "275c9500",
   "metadata": {},
   "outputs": [
    {
     "name": "stdout",
     "output_type": "stream",
     "text": [
      "\n",
      "📈 Top 20 Tickers & Weights:\n",
      "MSFT     0.114573\n",
      "AAPL     0.089170\n",
      "NVDA     0.084939\n",
      "GOOGL    0.063904\n",
      "V        0.061232\n",
      "XOM      0.052180\n",
      "BRK.B    0.047851\n",
      "TMO      0.046767\n",
      "META     0.043481\n",
      "GS       0.043175\n",
      "CSCO     0.041350\n",
      "BAC      0.040251\n",
      "KO       0.037643\n",
      "BX       0.037278\n",
      "AMZN     0.033751\n",
      "AVGO     0.033233\n",
      "PEP      0.033117\n",
      "WMT      0.032531\n",
      "GE       0.032413\n",
      "LLY      0.031161\n",
      "dtype: float64\n"
     ]
    }
   ],
   "source": [
    "# Step 7: Select top 20 contributors and normalize\n",
    "top20 = weights.sort_values(ascending=False).head(20)\n",
    "top20 /= top20.sum()\n",
    "\n",
    "print(\"\\n📈 Top 20 Tickers & Weights:\")\n",
    "print(top20)\n"
   ]
  },
  {
   "cell_type": "code",
   "execution_count": 16,
   "id": "c711c1c9",
   "metadata": {},
   "outputs": [
    {
     "data": {
      "image/png": "[encoded data removed]",
      "text/plain": [
       "<Figure size 1200x600 with 1 Axes>"
      ]
     },
     "metadata": {},
     "output_type": "display_data"
    }
   ],
   "source": [
    "# Step 8: Plot cumulative performance\n",
    "custom_return = X[top20.index].mul(top20).sum(axis=1)\n",
    "cum_custom = (1 + custom_return).cumprod()\n",
    "cum_spy = (1 + y).cumprod()\n",
    "\n",
    "plt.figure(figsize=(12, 6))\n",
    "plt.plot(cum_custom, label=\"Top 20 Portfolio\")\n",
    "plt.plot(cum_spy, label=\"SPY\")\n",
    "plt.title(\"Cumulative Return: Optimized Top 20 vs SPY\")\n",
    "plt.legend()\n",
    "plt.grid(True)\n",
    "plt.tight_layout()\n",
    "plt.show()\n"
   ]
  },
  {
   "cell_type": "code",
   "execution_count": 18,
   "id": "51ff030d",
   "metadata": {},
   "outputs": [
    {
     "name": "stdout",
     "output_type": "stream",
     "text": [
      "📈 Correlation between Portfolio and SPY: 0.9885\n"
     ]
    }
   ],
   "source": [
    "# Calculate portfolio returns using the optimized weights\n",
    "portfolio_return = (daily_returns * top20).sum(axis=1)\n",
    "\n",
    "# Align with SPY returns\n",
    "combined_df = pd.concat([portfolio_return, spy_return], axis=1)\n",
    "combined_df.columns = [\"Portfolio\", \"SPY\"]\n",
    "combined_df = combined_df.dropna()\n",
    "\n",
    "# Calculate correlation\n",
    "correlation = combined_df.corr().iloc[0, 1]\n",
    "print(f\"📈 Correlation between Portfolio and SPY: {correlation:.4f}\")\n"
   ]
  },
  {
   "cell_type": "code",
   "execution_count": 19,
   "id": "7d5edd1d",
   "metadata": {},
   "outputs": [
    {
     "name": "stdout",
     "output_type": "stream",
     "text": [
      "✅ Exported top 20 tickers to optimized_weights.xlsx\n"
     ]
    }
   ],
   "source": [
    "# Export the top 20 tickers and their weights to an Excel file\n",
    "top20.to_frame(name=\"Optimized_Weight\").to_excel(\"optimized_weights.xlsx\", index_label=\"Ticker\")\n",
    "print(\"✅ Exported top 20 tickers to optimized_weights.xlsx\")\n"
   ]
  }
 ],
 "metadata": {
  "kernelspec": {
   "display_name": "Python 3",
   "language": "python",
   "name": "python3"
  },
  "language_info": {
   "codemirror_mode": {
    "name": "ipython",
    "version": 3
   },
   "file_extension": ".py",
   "mimetype": "text/x-python",
   "name": "python",
   "nbconvert_exporter": "python",
   "pygments_lexer": "ipython3",
   "version": "3.13.4"
  }
 },
 "nbformat": 4,
 "nbformat_minor": 5
}
